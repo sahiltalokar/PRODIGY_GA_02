{
  "nbformat": 4,
  "nbformat_minor": 0,
  "metadata": {
    "colab": {
      "provenance": [],
      "gpuType": "T4",
      "authorship_tag": "ABX9TyOauH7zVVC0HUf+VaITMbxP",
      "include_colab_link": true
    },
    "kernelspec": {
      "name": "python3",
      "display_name": "Python 3"
    },
    "language_info": {
      "name": "python"
    },
    "accelerator": "GPU"
  },
  "cells": [
    {
      "cell_type": "markdown",
      "metadata": {
        "id": "view-in-github",
        "colab_type": "text"
      },
      "source": [
        "<a href=\"https://colab.research.google.com/github/sahiltalokar/PRODIGY_GA_02/blob/main/ImageGeneration.ipynb\" target=\"_parent\"><img src=\"https://colab.research.google.com/assets/colab-badge.svg\" alt=\"Open In Colab\"/></a>"
      ]
    },
    {
      "cell_type": "code",
      "source": [
        "# Step 1: Install required libraries\n",
        "!pip install --upgrade diffusers transformers accelerate safetensors\n",
        "\n",
        "# Step 2: Import libraries\n",
        "from diffusers import StableDiffusionPipeline\n",
        "import torch\n",
        "from IPython.display import display\n",
        "\n",
        "# Step 3: Setup device\n",
        "device = \"cuda\" if torch.cuda.is_available() else \"cpu\"\n",
        "print(\"Using device:\", device)\n",
        "\n",
        "# Step 4: Load Stable Diffusion model\n",
        "pipe = StableDiffusionPipeline.from_pretrained(\n",
        "    \"runwayml/stable-diffusion-v1-5\",\n",
        "    torch_dtype=torch.float16 if device == \"cuda\" else torch.float32\n",
        ").to(device)\n",
        "\n",
        "# Step 5: Generate an image\n",
        "prompt = \"A mythical dragon flying around a big castle\"\n",
        "image = pipe(prompt, guidance_scale=7.5).images[0]\n",
        "\n",
        "# Step 6: Display and save\n",
        "display(image)\n",
        "image.save(\"fantasy_landscape.png\")\n",
        "print(\"Image saved as fantasy_landscape.png\")\n"
      ],
      "metadata": {
        "collapsed": true,
        "id": "cDODOg1F-oYZ"
      },
      "execution_count": null,
      "outputs": []
    }
  ]
}